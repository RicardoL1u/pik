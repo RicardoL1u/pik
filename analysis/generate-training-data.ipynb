{
 "cells": [
  {
   "cell_type": "code",
   "execution_count": 1,
   "metadata": {},
   "outputs": [],
   "source": [
    "import json\n",
    "import glob\n",
    "\n",
    "# find all json files in the directory\n",
    "full_files = glob.glob('data/bbh-full/*.json')\n",
    "\n",
    "tasks = [file.split('/')[-1].split('.')[0] for file in full_files]"
   ]
  },
  {
   "cell_type": "code",
   "execution_count": 2,
   "metadata": {},
   "outputs": [],
   "source": [
    "# already done tasks\n",
    "# [\"web_of_lies\", \"multistep_arthmetic_two\", \"boolean_expressions\"]"
   ]
  },
  {
   "cell_type": "code",
   "execution_count": 5,
   "metadata": {},
   "outputs": [],
   "source": [
    "bbh_files = [file.replace('bbh-full', 'bbh/bbh') for file in full_files]"
   ]
  },
  {
   "cell_type": "code",
   "execution_count": null,
   "metadata": {},
   "outputs": [],
   "source": []
  },
  {
   "cell_type": "code",
   "execution_count": 13,
   "metadata": {},
   "outputs": [],
   "source": [
    "all_origin_data = []\n",
    "all_bbh_data = []\n",
    "output_file = open('bbh_questions.txt', 'w')\n",
    "for task, full_file, bbh_file in zip(tasks, full_files, bbh_files):\n",
    "    origin_data = json.load(open(full_file))\n",
    "    bbh_data = json.load(open(bbh_file))\n",
    "    # extract the first example in both files\n",
    "    origin_example = origin_data['examples'][0]\n",
    "    bbh_example = bbh_data['examples'][0]\n",
    "    # print(\"Task:\", task)\n",
    "    # print(\"Origin:\", json.dumps(origin_example, indent=2))\n",
    "    # print(\"BBH:\", json.dumps(bbh_example, indent=2))\n",
    "    # print(\"Give me a python expression to transform the origin example to the bbh example\")\n",
    "    # print(\"=========\")\n",
    "    \n",
    "    output_str = f\"Task: {task}\\n\"\n",
    "    output_str += f\"Origin: {json.dumps(origin_example, indent=2)}\\n\"\n",
    "    output_str += f\"BBH: {json.dumps(bbh_example, indent=2)}\\n\"\n",
    "    output_str += \"Give me a python expression to transform the origin example to the bbh example\\n\"\n",
    "    output_str += \"=========\\n\"\n",
    "    output_file.write(output_str)\n",
    "    \n",
    "    origin_example['task'] = task\n",
    "    bbh_example['task'] = task\n",
    "    \n",
    "    all_origin_data.append(origin_example)\n",
    "    all_bbh_data.append(bbh_example)\n",
    "\n",
    "with open('origin_data.json', 'w') as f:\n",
    "    json.dump(all_origin_data, f, indent=2)\n",
    "with open('bbh_data.json', 'w') as f:\n",
    "    json.dump(all_bbh_data, f, indent=2)\n",
    "    "
   ]
  },
  {
   "cell_type": "code",
   "execution_count": null,
   "metadata": {},
   "outputs": [],
   "source": []
  }
 ],
 "metadata": {
  "kernelspec": {
   "display_name": "torch212",
   "language": "python",
   "name": "python3"
  },
  "language_info": {
   "codemirror_mode": {
    "name": "ipython",
    "version": 3
   },
   "file_extension": ".py",
   "mimetype": "text/x-python",
   "name": "python",
   "nbconvert_exporter": "python",
   "pygments_lexer": "ipython3",
   "version": "3.11.7"
  }
 },
 "nbformat": 4,
 "nbformat_minor": 2
}
