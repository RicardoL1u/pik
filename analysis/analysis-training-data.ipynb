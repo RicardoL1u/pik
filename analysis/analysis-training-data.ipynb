{
 "cells": [
  {
   "cell_type": "code",
   "execution_count": 7,
   "metadata": {},
   "outputs": [],
   "source": [
    "import json\n",
    "import glob\n",
    "\n",
    "# data/bbh-full\n",
    "# find all json files in the directory\n",
    "files = glob.glob('data/bbh-full/*.json')\n",
    "\n",
    "from collections import Counter\n",
    "full_task_examples_count = Counter()\n",
    "for file in files:\n",
    "    with open(file) as f:\n",
    "        task = file.split('/')[-1].split('.')[0]\n",
    "        data = json.load(f)\n",
    "        full_task_examples_count[task] = len(data['examples'])\n",
    "        "
   ]
  },
  {
   "cell_type": "code",
   "execution_count": 8,
   "metadata": {},
   "outputs": [],
   "source": [
    "bbh_files = glob.glob('data/bbh/bbh/*.json')\n",
    "bbh_task_examples_count = Counter()\n",
    "for file in files:\n",
    "    with open(file) as f:\n",
    "        task = file.split('/')[-1].split('.')[0]\n",
    "        data = json.load(f)\n",
    "        bbh_task_examples_count[task] = len(data['examples'])"
   ]
  },
  {
   "cell_type": "code",
   "execution_count": 11,
   "metadata": {},
   "outputs": [],
   "source": [
    "# find the task that full has more examples than bbh\n",
    "for task, count in full_task_examples_count.items():\n",
    "    if count > bbh_task_examples_count[task]:\n",
    "        print(task, count, bbh_task_examples_count[task])"
   ]
  },
  {
   "cell_type": "code",
   "execution_count": null,
   "metadata": {},
   "outputs": [],
   "source": []
  }
 ],
 "metadata": {
  "kernelspec": {
   "display_name": "torch212",
   "language": "python",
   "name": "python3"
  },
  "language_info": {
   "codemirror_mode": {
    "name": "ipython",
    "version": 3
   },
   "file_extension": ".py",
   "mimetype": "text/x-python",
   "name": "python",
   "nbconvert_exporter": "python",
   "pygments_lexer": "ipython3",
   "version": "3.11.7"
  }
 },
 "nbformat": 4,
 "nbformat_minor": 2
}
